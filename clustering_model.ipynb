{
 "cells": [
  {
   "cell_type": "code",
   "execution_count": 6,
   "metadata": {},
   "outputs": [],
   "source": [
    "import torch\n",
    "from torch import nn, optim\n",
    "from sklearn import metrics\n",
    "# import umap\n",
    "from sklearn import mixture\n",
    "from sklearn.cluster import KMeans, SpectralClustering\n",
    "from sklearn.manifold import Isomap\n",
    "from sklearn.manifold import LocallyLinearEmbedding\n",
    "from sklearn.model_selection import train_test_split\n",
    "import pandas as pd\n",
    "from sklearn import preprocessing\n",
    "from create_data_set import create_data_set, clean_data\n",
    "import numpy as np"
   ]
  },
  {
   "cell_type": "code",
   "execution_count": 22,
   "metadata": {},
   "outputs": [],
   "source": [
    "input_dim = 3000\n",
    "cluster_count = 20\n",
    "\n",
    "class Autoencoder(nn.Module):\n",
    "    def __init__(self, dims, act='relu'):\n",
    "        super(Autoencoder, self).__init__()\n",
    "        self.dims = dims\n",
    "        self.act = act\n",
    "\n",
    "        # Activation function\n",
    "        if act == 'relu':\n",
    "            self.act = nn.ReLU()\n",
    "        else:\n",
    "            raise ValueError('Invalid activation function.')\n",
    "        # Encoder layers\n",
    "        self.encoder = nn.ModuleList()\n",
    "        for i in range(len(dims)-1):\n",
    "            self.encoder.append(nn.Linear(dims[i], dims[i + 1]))\n",
    "        # Decoder layers\n",
    "        self.decoder = nn.ModuleList()\n",
    "        for i in range(len(dims) - 1, 0, -1):\n",
    "            self.decoder.append(nn.Linear(dims[i], dims[i - 1]))\n",
    "        # Final decoder layer\n",
    "        self.final_decoder = nn.Linear(dims[1], dims[0])\n",
    "\n",
    "    def forward(self, x):\n",
    "        h = x\n",
    "        for i in range(len(self.dims) - 1):\n",
    "            h = self.act(self.encoder[i](h))\n",
    "        for i in range(len(self.dims) - 2, 0, -1):\n",
    "            h = self.act(self.decoder[i](h))\n",
    "        return self.final_decoder(h)"
   ]
  },
  {
   "cell_type": "code",
   "execution_count": 23,
   "metadata": {},
   "outputs": [],
   "source": [
    "def autoencoder_pretraining(train_dataset, val_dataset, test_dataset):\n",
    "    dims = [input_dim, 500, 500, 2000, cluster_count]\n",
    "    model = Autoencoder(dims)\n",
    "    learning_rate = 1e-3\n",
    "    num_epochs = 1000\n",
    "    batch_size = 256\n",
    "    criterion = nn.MSELoss()  # target is the input itself\n",
    "    optimizer = optim.Adam(model.parameters(), lr=learning_rate)\n",
    "    # Data loader\n",
    "    train_loader = torch.utils.data.DataLoader(train_dataset, batch_size=batch_size, shuffle=True)\n",
    "    test_loader = torch.utils.data.DataLoader(test_dataset, batch_size=batch_size, shuffle=True)\n",
    "    val_loader = torch.utils.data.DataLoader(val_dataset, batch_size=batch_size, shuffle=True)\n",
    "    device = torch.device('cuda' if torch.cuda.is_available() else 'cpu')\n",
    "    model = model.to(device)\n",
    "    best_val_loss = float('inf')\n",
    "    weights_file = 'best_weights.pth'\n",
    "    for epoch in range(num_epochs):\n",
    "        epoch_losses = []\n",
    "        model.train()\n",
    "        for features, targets in train_loader:\n",
    "            features = features.to(device)\n",
    "            features = features.float()\n",
    "            targets = targets.to(device)\n",
    "            outputs = model(features)\n",
    "            loss = criterion(outputs.view(-1), targets)\n",
    "            optimizer.zero_grad()\n",
    "            loss.backward()\n",
    "            optimizer.step()\n",
    "            epoch_losses.append(loss.item())\n",
    "        \n",
    "        if epoch % 50 == 0:\n",
    "            print(f'epoch: {epoch} loss: {np.mean(epoch_losses)}')\n",
    "\n",
    "        # Validate the model\n",
    "        model.eval()  # switch to evaluation mode\n",
    "        val_loss = 0\n",
    "        with torch.no_grad():\n",
    "            for features, targets in val_loader:\n",
    "                features = features.to(device)\n",
    "                features = features.float()\n",
    "                targets = targets.to(device)\n",
    "                outputs = model(features)\n",
    "                val_loss += criterion(outputs.view(-1), targets).item()\n",
    "        val_loss /= len(val_loader)  # average loss\n",
    "        if val_loss < best_val_loss:\n",
    "            best_val_loss = val_loss\n",
    "            torch.save(model.state_dict(), weights_file)\n",
    "        if epoch % 10 == 0:\n",
    "            print(f'Epoch [{epoch + 1}/{num_epochs}], Train Loss: {loss.item():.4f}, Val Loss: {val_loss:.4f}')\n",
    "\n",
    "\n",
    "    # Test the model\n",
    "    model.eval()\n",
    "    test_loss = 0\n",
    "    model.load_state_dict(torch.load(weights_file))# Load the best weights\n",
    "    with torch.no_grad():\n",
    "        for features, targets in test_loader:\n",
    "            features = features.to(device)\n",
    "            features = features.float()\n",
    "            targets = targets.to(device)\n",
    "            outputs = model(features)\n",
    "            test_loss += criterion(outputs.view(-1), targets).item()\n",
    "    test_loss /= len(test_loader)\n",
    "    print(f'Test Loss: {test_loss:.4f}')"
   ]
  },
  {
   "cell_type": "code",
   "execution_count": 7,
   "metadata": {},
   "outputs": [
    {
     "name": "stdout",
     "output_type": "stream",
     "text": [
      "Train size: 4172\n",
      "Val size: 591\n",
      "Test size: 1197\n"
     ]
    },
    {
     "name": "stderr",
     "output_type": "stream",
     "text": [
      "/tmp/ipykernel_1765469/2838052268.py:31: DeprecationWarning: `np.int` is a deprecated alias for the builtin `int`. To silence this warning, use `int` by itself. Doing this will not modify any behavior and is safe. When replacing `np.int`, you may wish to use e.g. `np.int64` or `np.int32` to specify the precision. If you wish to review your current use, check the release note link for additional information.\n",
      "Deprecated in NumPy 1.20; for more details and guidance: https://numpy.org/devdocs/release/1.20.0-notes.html#deprecations\n",
      "  y_train_np = np.array([class_number[y_signals2.index(x)] for x in y_train]).astype(np.int)\n",
      "/tmp/ipykernel_1765469/2838052268.py:32: DeprecationWarning: `np.int` is a deprecated alias for the builtin `int`. To silence this warning, use `int` by itself. Doing this will not modify any behavior and is safe. When replacing `np.int`, you may wish to use e.g. `np.int64` or `np.int32` to specify the precision. If you wish to review your current use, check the release note link for additional information.\n",
      "Deprecated in NumPy 1.20; for more details and guidance: https://numpy.org/devdocs/release/1.20.0-notes.html#deprecations\n",
      "  y_test_np = np.array([class_number[y_signals2.index(x)] for x in y_test]).astype(np.int)\n",
      "/tmp/ipykernel_1765469/2838052268.py:33: DeprecationWarning: `np.int` is a deprecated alias for the builtin `int`. To silence this warning, use `int` by itself. Doing this will not modify any behavior and is safe. When replacing `np.int`, you may wish to use e.g. `np.int64` or `np.int32` to specify the precision. If you wish to review your current use, check the release note link for additional information.\n",
      "Deprecated in NumPy 1.20; for more details and guidance: https://numpy.org/devdocs/release/1.20.0-notes.html#deprecations\n",
      "  y_val_np = np.array([class_number[y_signals2.index(x)] for x in y_val]).astype(np.int)\n"
     ]
    }
   ],
   "source": [
    "f_name  = f'/home/hadasabraham/SignalCluster/data/datasets/hadas_adir_barak_train.csv'\n",
    "# create_data_set(f_name, 20, 2, False)\n",
    "col_names = ['signal', 'barcode']\n",
    "data = pd.read_csv(f_name, index_col=0)\n",
    "# data.columns = col_names\n",
    "X = data['signal']\n",
    "X = X.apply(eval).apply(np.array)\n",
    "X = X.apply(lambda x: clean_data(x,3000))\n",
    "Y = data['barcode']\n",
    "y_signals = list(Y)\n",
    "y_signals2 = list(set(y_signals))\n",
    "# Example names vector (should have 20 names)\n",
    "class_number = [i for i in range(20)]\n",
    "\n",
    "seed = 211\n",
    "\n",
    "x_train, x_test, y_train, y_test = train_test_split(X, Y, test_size=0.3, random_state=seed)\n",
    "\n",
    "# seprate to test, validation \n",
    "x_test, x_val, y_test, y_val = train_test_split(x_test, y_test, test_size=0.33, random_state=seed)\n",
    "print(f\"Train size: {x_train.shape[0]}\")\n",
    "print(f\"Val size: {x_val.shape[0]}\")\n",
    "print(f\"Test size: {x_test.shape[0]}\")\n",
    "\n",
    "# # pre-processing and converting labels to integers\n",
    "# x_train_prep = preprocessing.scale(x_train)\n",
    "# x_test_prep = preprocessing.scale(x_test)\n",
    "# x_val_prep = preprocessing.scale(x_val)\n",
    "\n",
    "\n",
    "y_train_np = np.array([class_number[y_signals2.index(x)] for x in y_train]).astype(np.int)\n",
    "y_test_np = np.array([class_number[y_signals2.index(x)] for x in y_test]).astype(np.int)\n",
    "y_val_np = np.array([class_number[y_signals2.index(x)] for x in y_val]).astype(np.int)\n",
    "\n",
    "\n",
    "# Convert the NumPy arrays to torch tensors\n",
    "x_train_tensor = torch.tensor(np.stack(x_train))\n",
    "y_train_tensor = torch.from_numpy(y_train_np).float()\n",
    "\n",
    "x_val_tensor = torch.tensor(np.stack(x_val))\n",
    "y_val_tensor = torch.from_numpy(y_val_np).float()\n",
    "x_test_tensor = torch.tensor(np.stack(x_test))\n",
    "y_test_tensor = torch.from_numpy(y_test_np).float()\n",
    "# Create the TensorDataset\n",
    "train_dataset = torch.utils.data.TensorDataset(x_train_tensor, y_train_tensor)\n",
    "val_dataset = torch.utils.data.TensorDataset(x_val_tensor, y_val_tensor)\n",
    "test_dataset = torch.utils.data.TensorDataset(x_test_tensor, y_test_tensor)"
   ]
  },
  {
   "cell_type": "code",
   "execution_count": 13,
   "metadata": {},
   "outputs": [
    {
     "data": {
      "text/plain": [
       "torch.Size([591, 3000])"
      ]
     },
     "execution_count": 13,
     "metadata": {},
     "output_type": "execute_result"
    }
   ],
   "source": [
    "x_val_tensor.shape"
   ]
  },
  {
   "cell_type": "code",
   "execution_count": 24,
   "metadata": {},
   "outputs": [
    {
     "ename": "IndexError",
     "evalue": "list index out of range",
     "output_type": "error",
     "traceback": [
      "\u001b[0;31m---------------------------------------------------------------------------\u001b[0m",
      "\u001b[0;31mIndexError\u001b[0m                                Traceback (most recent call last)",
      "Cell \u001b[0;32mIn[24], line 1\u001b[0m\n\u001b[0;32m----> 1\u001b[0m autoencoder_pretraining(train_dataset,val_dataset,test_dataset)\n",
      "Cell \u001b[0;32mIn[23], line 3\u001b[0m, in \u001b[0;36mautoencoder_pretraining\u001b[0;34m(train_dataset, val_dataset, test_dataset)\u001b[0m\n\u001b[1;32m      1\u001b[0m \u001b[39mdef\u001b[39;00m \u001b[39mautoencoder_pretraining\u001b[39m(train_dataset, val_dataset, test_dataset):\n\u001b[1;32m      2\u001b[0m     dims \u001b[39m=\u001b[39m [input_dim, \u001b[39m500\u001b[39m, \u001b[39m500\u001b[39m, \u001b[39m2000\u001b[39m, cluster_count]\n\u001b[0;32m----> 3\u001b[0m     model \u001b[39m=\u001b[39m Autoencoder(dims)\n\u001b[1;32m      4\u001b[0m     learning_rate \u001b[39m=\u001b[39m \u001b[39m1e-3\u001b[39m\n\u001b[1;32m      5\u001b[0m     num_epochs \u001b[39m=\u001b[39m \u001b[39m1000\u001b[39m\n",
      "Cell \u001b[0;32mIn[22], line 18\u001b[0m, in \u001b[0;36mAutoencoder.__init__\u001b[0;34m(self, dims, act)\u001b[0m\n\u001b[1;32m     16\u001b[0m \u001b[39mself\u001b[39m\u001b[39m.\u001b[39mencoder \u001b[39m=\u001b[39m nn\u001b[39m.\u001b[39mModuleList()\n\u001b[1;32m     17\u001b[0m \u001b[39mfor\u001b[39;00m i \u001b[39min\u001b[39;00m \u001b[39mrange\u001b[39m(\u001b[39mlen\u001b[39m(dims)):\n\u001b[0;32m---> 18\u001b[0m     \u001b[39mself\u001b[39m\u001b[39m.\u001b[39mencoder\u001b[39m.\u001b[39mappend(nn\u001b[39m.\u001b[39mLinear(dims[i], dims[i \u001b[39m+\u001b[39;49m \u001b[39m1\u001b[39;49m]))\n\u001b[1;32m     19\u001b[0m \u001b[39m# Decoder layers\u001b[39;00m\n\u001b[1;32m     20\u001b[0m \u001b[39mself\u001b[39m\u001b[39m.\u001b[39mdecoder \u001b[39m=\u001b[39m nn\u001b[39m.\u001b[39mModuleList()\n",
      "\u001b[0;31mIndexError\u001b[0m: list index out of range"
     ]
    }
   ],
   "source": [
    "autoencoder_pretraining(train_dataset,val_dataset,test_dataset)\n"
   ]
  }
 ],
 "metadata": {
  "kernelspec": {
   "display_name": "nanopore",
   "language": "python",
   "name": "python3"
  },
  "language_info": {
   "codemirror_mode": {
    "name": "ipython",
    "version": 3
   },
   "file_extension": ".py",
   "mimetype": "text/x-python",
   "name": "python",
   "nbconvert_exporter": "python",
   "pygments_lexer": "ipython3",
   "version": "3.9.15"
  },
  "orig_nbformat": 4
 },
 "nbformat": 4,
 "nbformat_minor": 2
}
