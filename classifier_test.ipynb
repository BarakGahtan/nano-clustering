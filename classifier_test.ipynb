{
 "cells": [
  {
   "cell_type": "code",
   "execution_count": 86,
   "metadata": {},
   "outputs": [],
   "source": [
    "import tensorflow as tf\n",
    "import tensorflow.keras as keras\n",
    "import keras.layers as layers\n",
    "\n",
    "from tqdm import tqdm\n",
    "import pandas as pd\n",
    "import numpy as np\n",
    "import torch\n",
    "\n",
    "from sklearn.model_selection import train_test_split\n",
    "from create_data_set import clean_data\n",
    "\n",
    "# from keras.layers import Input, Dense, LSTM, MaxPooling1D, Conv1D\n",
    "# from keras.models import Model"
   ]
  },
  {
   "cell_type": "code",
   "execution_count": 109,
   "metadata": {},
   "outputs": [
    {
     "ename": "SyntaxError",
     "evalue": "invalid syntax (2661215580.py, line 17)",
     "output_type": "error",
     "traceback": [
      "\u001b[1;36m  Cell \u001b[1;32mIn[109], line 17\u001b[1;36m\u001b[0m\n\u001b[1;33m    filters=32,\u001b[0m\n\u001b[1;37m    ^\u001b[0m\n\u001b[1;31mSyntaxError\u001b[0m\u001b[1;31m:\u001b[0m invalid syntax\n"
     ]
    }
   ],
   "source": [
    "\"\"\"\n",
    "input_layer = Input(shape=(400, 16))\n",
    "conv1 = Conv1D(filters=32,\n",
    "               kernel_size=8,\n",
    "               strides=1,\n",
    "               activation='relu',\n",
    "               padding='same')(input_layer)\n",
    "lstm1 = LSTM(32, return_sequences=True)(conv1)\n",
    "output_layer = Dense(1, activation='sigmoid')(lstm1)\n",
    "model = Model(inputs=input_layer, outputs=output_layer)\n",
    "\"\"\"\n",
    "\n",
    "\n",
    "model = keras.Sequential()\n",
    "\n",
    "model.add(layers.Conv1D(filters=32,\n",
    "                        kernel_size=8,\n",
    "                        strides=1,\n",
    "                        activation='relu',\n",
    "                        padding='same'))\n",
    "\n",
    "model.add(layers.LSTM(32))  # Set return_sequences=False\n",
    "\n",
    "model.add(layers.Dense(64, kernel_initializer='uniform'))\n",
    "model.add(layers.Activation('softmax'))\n",
    "\n",
    "loss_function = keras.losses.SparseCategoricalCrossentropy(from_logits=True)\n",
    "model.compile(loss=loss_function, optimizer='adam')\n",
    "\n",
    "# model.build()\n",
    "# model.summary()"
   ]
  },
  {
   "cell_type": "code",
   "execution_count": 44,
   "metadata": {},
   "outputs": [
    {
     "name": "stdout",
     "output_type": "stream",
     "text": [
      "Train size: 4172\n",
      "Val size: 591\n",
      "Test size: 1197\n"
     ]
    }
   ],
   "source": [
    "f_name  = f'C:/Users/adirk/Documents/nano-clustering/hadas_adir_barak_train.csv'\n",
    "# create_data_set(f_name, 20, 2, False)\n",
    "col_names = ['signal', 'barcode']\n",
    "data = pd.read_csv(f_name, index_col=0)\n",
    "# data.columns = col_names\n",
    "X = data['signal']\n",
    "X = X.apply(eval).apply(np.array)\n",
    "X = X.apply(lambda x: clean_data(x,3000))\n",
    "Y = data['barcode']\n",
    "y_signals = list(Y)\n",
    "y_signals2 = list(set(y_signals))\n",
    "# Example names vector (should have 20 names)\n",
    "class_number = [i for i in range(20)]\n",
    "\n",
    "seed = 211\n",
    "\n",
    "x_train, x_test, y_train, y_test = train_test_split(X, Y, test_size=0.3, random_state=seed)\n",
    "\n",
    "# seprate to test, validation \n",
    "x_test, x_val, y_test, y_val = train_test_split(x_test, y_test, test_size=0.33, random_state=seed)\n",
    "print(f\"Train size: {x_train.shape[0]}\")\n",
    "print(f\"Val size: {x_val.shape[0]}\")\n",
    "print(f\"Test size: {x_test.shape[0]}\")\n"
   ]
  },
  {
   "cell_type": "code",
   "execution_count": 46,
   "metadata": {},
   "outputs": [],
   "source": [
    "\n",
    "# # pre-processing and converting labels to integers\n",
    "# x_train_prep = preprocessing.scale(x_train)\n",
    "# x_test_prep = preprocessing.scale(x_test)\n",
    "# x_val_prep = preprocessing.scale(x_val)\n",
    "\n",
    "\n",
    "y_train_np = np.array([class_number[y_signals2.index(x)] for x in y_train]).astype(int)\n",
    "y_test_np = np.array([class_number[y_signals2.index(x)] for x in y_test]).astype(int)\n",
    "y_val_np = np.array([class_number[y_signals2.index(x)] for x in y_val]).astype(int)\n",
    "\n",
    "\n",
    "# Convert the NumPy arrays to torch tensors\n",
    "x_train_tensor = torch.tensor(np.stack(x_train))\n",
    "y_train_tensor = torch.from_numpy(y_train_np).float()\n",
    "\n",
    "x_val_tensor = torch.tensor(np.stack(x_val))\n",
    "y_val_tensor = torch.from_numpy(y_val_np).float()\n",
    "x_test_tensor = torch.tensor(np.stack(x_test))\n",
    "y_test_tensor = torch.from_numpy(y_test_np).float()\n",
    "# Create the TensorDataset\n",
    "train_dataset = torch.utils.data.TensorDataset(x_train_tensor, y_train_tensor)\n",
    "val_dataset = torch.utils.data.TensorDataset(x_val_tensor, y_val_tensor)\n",
    "test_dataset = torch.utils.data.TensorDataset(x_test_tensor, y_test_tensor)"
   ]
  },
  {
   "cell_type": "code",
   "execution_count": 107,
   "metadata": {},
   "outputs": [
    {
     "name": "stdout",
     "output_type": "stream",
     "text": [
      "torch.Size([4172])\n"
     ]
    }
   ],
   "source": [
    "from sklearn.preprocessing import LabelEncoder\n",
    "\n",
    "# Initialize LabelEncoder\n",
    "label_encoder = LabelEncoder()\n",
    "\n",
    "# Fit and transform labels\n",
    "y_train_encoded = label_encoder.fit_transform(y_train_tensor)\n",
    "\n",
    "y_train_tensor = torch.from_numpy(y_train_encoded).long()\n",
    "print(np.shape(y_train_tensor))"
   ]
  },
  {
   "cell_type": "code",
   "execution_count": 102,
   "metadata": {},
   "outputs": [
    {
     "name": "stdout",
     "output_type": "stream",
     "text": [
      "torch.Size([4172, 3000])\n",
      "torch.Size([4172])\n"
     ]
    }
   ],
   "source": [
    "print(np.shape(x_train_tensor))\n",
    "print(np.shape(y_train_tensor))"
   ]
  },
  {
   "cell_type": "code",
   "execution_count": 108,
   "metadata": {},
   "outputs": [
    {
     "name": "stdout",
     "output_type": "stream",
     "text": [
      "WARNING:tensorflow:Keras is training/fitting/evaluating on array-like data. Keras may not be optimized for this format, so if your input data format is supported by TensorFlow I/O (https://github.com/tensorflow/io) we recommend using that to load a Dataset instead.\n"
     ]
    },
    {
     "ename": "TypeError",
     "evalue": "Cannot convert the argument `type_value`: torch.int32 to a TensorFlow DType.",
     "output_type": "error",
     "traceback": [
      "\u001b[1;31m---------------------------------------------------------------------------\u001b[0m",
      "\u001b[1;31mTypeError\u001b[0m                                 Traceback (most recent call last)",
      "Cell \u001b[1;32mIn[108], line 2\u001b[0m\n\u001b[0;32m      1\u001b[0m \u001b[39m# Now, you can use the TensorFlow tensors for training\u001b[39;00m\n\u001b[1;32m----> 2\u001b[0m model\u001b[39m.\u001b[39;49mfit(x_train_tensor, y_train_encoded_tf, epochs\u001b[39m=\u001b[39;49m\u001b[39m2000\u001b[39;49m, batch_size\u001b[39m=\u001b[39;49m\u001b[39m5\u001b[39;49m, verbose\u001b[39m=\u001b[39;49m\u001b[39m0\u001b[39;49m)\n",
      "File \u001b[1;32m~\\AppData\\Local\\Packages\\PythonSoftwareFoundation.Python.3.8_qbz5n2kfra8p0\\LocalCache\\local-packages\\Python38\\site-packages\\keras\\src\\utils\\traceback_utils.py:70\u001b[0m, in \u001b[0;36mfilter_traceback.<locals>.error_handler\u001b[1;34m(*args, **kwargs)\u001b[0m\n\u001b[0;32m     67\u001b[0m     filtered_tb \u001b[39m=\u001b[39m _process_traceback_frames(e\u001b[39m.\u001b[39m__traceback__)\n\u001b[0;32m     68\u001b[0m     \u001b[39m# To get the full stack trace, call:\u001b[39;00m\n\u001b[0;32m     69\u001b[0m     \u001b[39m# `tf.debugging.disable_traceback_filtering()`\u001b[39;00m\n\u001b[1;32m---> 70\u001b[0m     \u001b[39mraise\u001b[39;00m e\u001b[39m.\u001b[39mwith_traceback(filtered_tb) \u001b[39mfrom\u001b[39;00m \u001b[39mNone\u001b[39;00m\n\u001b[0;32m     71\u001b[0m \u001b[39mfinally\u001b[39;00m:\n\u001b[0;32m     72\u001b[0m     \u001b[39mdel\u001b[39;00m filtered_tb\n",
      "File \u001b[1;32m~\\AppData\\Local\\Packages\\PythonSoftwareFoundation.Python.3.8_qbz5n2kfra8p0\\LocalCache\\local-packages\\Python38\\site-packages\\tensorflow\\python\\framework\\dtypes.py:846\u001b[0m, in \u001b[0;36mas_dtype\u001b[1;34m(type_value)\u001b[0m\n\u001b[0;32m    843\u001b[0m \u001b[39mif\u001b[39;00m \u001b[39misinstance\u001b[39m(type_value, _dtypes\u001b[39m.\u001b[39mDType):\n\u001b[0;32m    844\u001b[0m   \u001b[39mreturn\u001b[39;00m _INTERN_TABLE[type_value\u001b[39m.\u001b[39mas_datatype_enum]\n\u001b[1;32m--> 846\u001b[0m \u001b[39mraise\u001b[39;00m \u001b[39mTypeError\u001b[39;00m(\u001b[39mf\u001b[39m\u001b[39m\"\u001b[39m\u001b[39mCannot convert the argument `type_value`: \u001b[39m\u001b[39m{\u001b[39;00mtype_value\u001b[39m!r}\u001b[39;00m\u001b[39m \u001b[39m\u001b[39m\"\u001b[39m\n\u001b[0;32m    847\u001b[0m                 \u001b[39m\"\u001b[39m\u001b[39mto a TensorFlow DType.\u001b[39m\u001b[39m\"\u001b[39m)\n",
      "\u001b[1;31mTypeError\u001b[0m: Cannot convert the argument `type_value`: torch.int32 to a TensorFlow DType."
     ]
    }
   ],
   "source": [
    "\n",
    "# Now, you can use the TensorFlow tensors for training\n",
    "model.fit(x_train_tensor, y_train_encoded_tf, epochs=2000, batch_size=5, verbose=0)"
   ]
  }
 ],
 "metadata": {
  "kernelspec": {
   "display_name": "Python 3",
   "language": "python",
   "name": "python3"
  },
  "language_info": {
   "codemirror_mode": {
    "name": "ipython",
    "version": 3
   },
   "file_extension": ".py",
   "mimetype": "text/x-python",
   "name": "python",
   "nbconvert_exporter": "python",
   "pygments_lexer": "ipython3",
   "version": "3.8.10"
  },
  "orig_nbformat": 4
 },
 "nbformat": 4,
 "nbformat_minor": 2
}
